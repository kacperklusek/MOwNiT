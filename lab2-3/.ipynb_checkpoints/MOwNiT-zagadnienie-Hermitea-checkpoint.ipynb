{
 "cells": [
  {
   "cell_type": "markdown",
   "id": "a3fb02ab",
   "metadata": {},
   "source": [
    "# Dane techniczne sprzętu"
   ]
  },
  {
   "cell_type": "markdown",
   "id": "c1b1950e",
   "metadata": {},
   "source": [
    "Obliczenia zostały wykonane na komputerze o następujących parametrach:\n",
    "\n",
    "- Procesor: AMD Ryzen $7$ $4700$U ($8$ rdzeni, $8$ wątków),\n",
    "\n",
    "- Pamięć RAM: $16$ GB $3200$ MHz"
   ]
  },
  {
   "cell_type": "markdown",
   "id": "80b7771a",
   "metadata": {},
   "source": [
    "# Biblioteki"
   ]
  },
  {
   "cell_type": "code",
   "execution_count": 1,
   "id": "b9d8c2fd",
   "metadata": {},
   "outputs": [
    {
     "ename": "ModuleNotFoundError",
     "evalue": "No module named 'seaborn'",
     "output_type": "error",
     "traceback": [
      "\u001b[0;31m---------------------------------------------------------------------------\u001b[0m",
      "\u001b[0;31mModuleNotFoundError\u001b[0m                       Traceback (most recent call last)",
      "Input \u001b[0;32mIn [1]\u001b[0m, in \u001b[0;36m<cell line: 5>\u001b[0;34m()\u001b[0m\n\u001b[1;32m      3\u001b[0m \u001b[38;5;28;01mimport\u001b[39;00m \u001b[38;5;21;01mpandas\u001b[39;00m \u001b[38;5;28;01mas\u001b[39;00m \u001b[38;5;21;01mpd\u001b[39;00m\n\u001b[1;32m      4\u001b[0m \u001b[38;5;28;01mfrom\u001b[39;00m \u001b[38;5;21;01mmatplotlib\u001b[39;00m \u001b[38;5;28;01mimport\u001b[39;00m pyplot \u001b[38;5;28;01mas\u001b[39;00m plt\n\u001b[0;32m----> 5\u001b[0m \u001b[38;5;28;01mimport\u001b[39;00m \u001b[38;5;21;01mseaborn\u001b[39;00m \u001b[38;5;28;01mas\u001b[39;00m \u001b[38;5;21;01msns\u001b[39;00m\n\u001b[1;32m      6\u001b[0m \u001b[38;5;28;01mfrom\u001b[39;00m \u001b[38;5;21;01mtabulate\u001b[39;00m \u001b[38;5;28;01mimport\u001b[39;00m tabulate\n\u001b[1;32m      7\u001b[0m \u001b[38;5;28;01mfrom\u001b[39;00m \u001b[38;5;21;01msympy\u001b[39;00m \u001b[38;5;28;01mimport\u001b[39;00m Symbol, lambdify, sin\n",
      "\u001b[0;31mModuleNotFoundError\u001b[0m: No module named 'seaborn'"
     ]
    }
   ],
   "source": [
    "import math\n",
    "import numpy as np\n",
    "import pandas as pd\n",
    "from matplotlib import pyplot as plt\n",
    "# import seaborn as sns||\n",
    "from tabulate import tabulate\n",
    "from sympy import Symbol, lambdify, sin"
   ]
  },
  {
   "cell_type": "markdown",
   "id": "48777562",
   "metadata": {},
   "source": [
    "# Pomocnicze funkcje"
   ]
  },
  {
   "cell_type": "code",
   "execution_count": null,
   "id": "7bfe3504",
   "metadata": {},
   "outputs": [],
   "source": [
    "def plot_fn(fn, a, b, *, label='', title='Wykres', color='b', step=.1, ax=plt):\n",
    "    n = int((b - a) / step) + 1\n",
    "    xs = np.linspace(a, b, n)\n",
    "    ax.plot(xs, [fn(x) for x in xs], color, label=label)\n",
    "    if label: ax.legend(loc='best')\n",
    "    \n",
    "    if ax is plt:\n",
    "        ax.title(title)\n",
    "        ax.xlabel('x')\n",
    "        ax.ylabel('y')\n",
    "    else:\n",
    "        ax.title.set_text(title)\n",
    "        ax.set_xlabel('x')\n",
    "        ax.set_ylabel('y')\n",
    "    ax.grid()\n",
    "    \n",
    "    sns.despine()\n",
    "    \n",
    "def chebyshev_nodes(a, b, n):\n",
    "    xs = []\n",
    "    for k in range(n, 0, -1):\n",
    "        xs.append(.5 * (a + b) + .5 * (b - a) * math.cos((2 * k - 1) / (2 * n) * math.pi))\n",
    "    return xs"
   ]
  },
  {
   "cell_type": "markdown",
   "id": "294e64bc",
   "metadata": {},
   "source": [
    "## Wyznaczanie węzłów zgodnie z zerami wielomianu Czebyszewa"
   ]
  },
  {
   "cell_type": "code",
   "execution_count": null,
   "id": "645d6264",
   "metadata": {},
   "outputs": [],
   "source": [
    "def chebyshev_nodes(a, b, n):\n",
    "    xs = []\n",
    "    for k in range(n, 0, -1):\n",
    "        xs.append(.5 * (a + b) + .5 * (b - a) * math.cos((2 * k - 1) / (2 * n) * math.pi))\n",
    "    return xs"
   ]
  },
  {
   "cell_type": "markdown",
   "id": "377ee04b",
   "metadata": {},
   "source": [
    "# Interpolacja Hermite'a"
   ]
  },
  {
   "cell_type": "code",
   "execution_count": null,
   "id": "e60df176",
   "metadata": {},
   "outputs": [],
   "source": [
    "def memoized(fn):\n",
    "    cache = {}\n",
    "\n",
    "    def inner(arg):\n",
    "        if arg not in cache:\n",
    "            cache[arg] = fn(arg)\n",
    "        return cache[arg]\n",
    "        \n",
    "    return inner\n",
    "\n",
    "@memoized\n",
    "def factorial(n):\n",
    "    if n in {0, 1}: return 1\n",
    "    return n * factorial(n - 1)\n",
    "\n",
    "def hermite(xs: list[int], ys: list[list[int]]):\n",
    "    if len(xs) != len(ys):\n",
    "        raise ValueError('The length of the xs list is different from from the length of the ys list')\n",
    "    if not all(len(y_list) for y_list in ys):\n",
    "        raise ValueError('Lists of function values and derivatives must be not empty')\n",
    "    \n",
    "    ms = [len(y_list) for y_list in ys]\n",
    "    m = sum(ms) # Total number of coefficients\n",
    "    n = m - 1  # Degree of a polynomial\n",
    "    \n",
    "    xs_ = []\n",
    "    for i in range(len(xs)):\n",
    "        xs_.extend([xs[i]] * ms[i])\n",
    "    \n",
    "    # Create a matrix of coefficients\n",
    "    bs = [[None] * m for _ in range(m)]\n",
    "    \n",
    "    # Fill a matrix with known values\n",
    "    i = 0\n",
    "    for y_list in ys:\n",
    "        for j in range(len(y_list)):\n",
    "            for k in range(j + 1):\n",
    "                bs[i][k] = y_list[k] / factorial(k)\n",
    "            i += 1\n",
    "            \n",
    "    # Fill the remaining triangular part of a matrix\n",
    "    for j in range(1, m):\n",
    "        for i in range(j, m):\n",
    "            if bs[i][j] is not None: \n",
    "                continue\n",
    "            bs[i][j] = (bs[i][j - 1] - bs[i - 1][j - 1]) / (xs_[i] - xs_[i - j])\n",
    "            \n",
    "    # Rewrite coefficients to the linear array\n",
    "    bs_ = [bs[i][i] for i in range(m)]\n",
    "    \n",
    "    # Create interpolating function\n",
    "    def f(x):\n",
    "        x_diffs = [x - xi for xi in xs]\n",
    "\n",
    "        y = bs_[0]\n",
    "        Pl = 1\n",
    "        deg = 0  # Current Pl polynomial degree\n",
    "        for i, mi in enumerate(ms):\n",
    "            for _ in range(mi):\n",
    "                deg += 1\n",
    "                Pl *= x_diffs[i]\n",
    "                y += bs_[deg] * Pl\n",
    "                if deg == n:\n",
    "                    return y\n",
    "                \n",
    "    return f"
   ]
  },
  {
   "cell_type": "code",
   "execution_count": null,
   "id": "ec001672",
   "metadata": {},
   "outputs": [],
   "source": [
    "hermite([1, 2], [[1, 4], [3, 1, 1]])"
   ]
  },
  {
   "cell_type": "markdown",
   "id": "3e55e94a",
   "metadata": {},
   "source": [
    "# Zadania"
   ]
  },
  {
   "cell_type": "markdown",
   "id": "de877de3",
   "metadata": {},
   "source": [
    "## Interpolowana funkcja"
   ]
  },
  {
   "cell_type": "markdown",
   "id": "cc869772",
   "metadata": {},
   "source": [
    "### Wzór funkcji"
   ]
  },
  {
   "cell_type": "markdown",
   "id": "079526f3",
   "metadata": {},
   "source": [
    "$\\Large{f(x)=e^{-k\\cdot{sin(mx)}}+k\\cdot{sin(mx)}-1}$\n",
    "\n",
    "gdzie $k=2$, $m=2$, $x\\in[-\\pi,2\\pi]$"
   ]
  },
  {
   "cell_type": "code",
   "execution_count": null,
   "id": "99175556",
   "metadata": {},
   "outputs": [],
   "source": [
    "f = lambda x, k, m: math.e ** (-k * math.sin(m * x)) + k * math.sin(m * x) - 1"
   ]
  },
  {
   "cell_type": "code",
   "execution_count": null,
   "id": "2fd2fbc6",
   "metadata": {},
   "outputs": [],
   "source": [
    "k = 2\n",
    "m = 2\n",
    "a = -math.pi\n",
    "b = 2 * math.pi\n",
    "x = [a, b]\n",
    "\n",
    "g = lambda x: f(x, k, m)"
   ]
  },
  {
   "cell_type": "markdown",
   "id": "7c0b90ea",
   "metadata": {},
   "source": [
    "### Wykres funkcji"
   ]
  },
  {
   "cell_type": "code",
   "execution_count": null,
   "id": "8000f394",
   "metadata": {
    "scrolled": false
   },
   "outputs": [],
   "source": [
    "plt.figure(figsize=(15, 5))\n",
    "plot_fn(g, a, b, step=.01)\n",
    "plt.show()"
   ]
  },
  {
   "cell_type": "markdown",
   "id": "ffaca7bc",
   "metadata": {},
   "source": [
    "## Dokładność przybliżenia funkcji interpolowanej przez wielomian interpolujący "
   ]
  },
  {
   "cell_type": "markdown",
   "id": "ddd86fc3",
   "metadata": {},
   "source": [
    "Przyjmijmy następujące oznaczenia:\n",
    "\n",
    "$f(x)$ - interpolowana funkcja (funkcja wzorcowa)\n",
    "\n",
    "$W(x)$ - wielomian interpolujący (przybliżający funkcję wzorcową)"
   ]
  },
  {
   "cell_type": "markdown",
   "id": "9d5d976e",
   "metadata": {},
   "source": [
    "### Norma z różnicy"
   ]
  },
  {
   "cell_type": "markdown",
   "id": "5be960eb",
   "metadata": {},
   "source": [
    "$||f(x)-W(x)||$"
   ]
  },
  {
   "cell_type": "code",
   "execution_count": null,
   "id": "0c96476c",
   "metadata": {},
   "outputs": [],
   "source": [
    "def abs_diff(f, W, xs):\n",
    "    return [abs(f(x) - W(x)) for x in xs]"
   ]
  },
  {
   "cell_type": "markdown",
   "id": "63844faf",
   "metadata": {},
   "source": [
    "### Największa różnica"
   ]
  },
  {
   "cell_type": "markdown",
   "id": "8162e3e1",
   "metadata": {},
   "source": [
    "$max_k\\{||f(x_k)-W(x_k)||\\}$"
   ]
  },
  {
   "cell_type": "code",
   "execution_count": null,
   "id": "a3ff6884",
   "metadata": {},
   "outputs": [],
   "source": [
    "def max_diff(f, W, xs):\n",
    "    return max(abs_diff(f, W, xs))"
   ]
  },
  {
   "cell_type": "markdown",
   "id": "e5fc46f9",
   "metadata": {},
   "source": [
    "### Suma kwadratów różnic"
   ]
  },
  {
   "cell_type": "markdown",
   "id": "be9fa270",
   "metadata": {},
   "source": [
    "$\\sum\\limits_{i = 1}^{N} (f(x_i) - W(x_i))^2$"
   ]
  },
  {
   "cell_type": "code",
   "execution_count": null,
   "id": "d3420162",
   "metadata": {},
   "outputs": [],
   "source": [
    "def sum_sq_diff(f, W, xs):\n",
    "    return sum(d ** 2 for d in abs_diff(f, W, xs))"
   ]
  },
  {
   "cell_type": "markdown",
   "id": "dc367c03",
   "metadata": {},
   "source": [
    "## Interpolacja"
   ]
  },
  {
   "cell_type": "markdown",
   "id": "71721c8f",
   "metadata": {},
   "source": [
    "### Pomocnicze funkcje"
   ]
  },
  {
   "cell_type": "markdown",
   "id": "9f42f000",
   "metadata": {},
   "source": [
    "###### Wykresy"
   ]
  },
  {
   "cell_type": "code",
   "execution_count": null,
   "id": "264c3539",
   "metadata": {},
   "outputs": [],
   "source": [
    "def plot_interpolation(f, xs, ys, N=1000):\n",
    "    W = hermite(xs, ys)\n",
    "    \n",
    "    fig, ax = plt.subplots(1, 2, figsize=(15, 4))\n",
    "    \n",
    "    # Compare interpolation polynomial to the original function\n",
    "    plot_fn(f, a, b, step=.01, color='#777', label='f', ax=ax[0])\n",
    "    plot_fn(W, a, b, step=.01, label='Hermite\\'s', title='Interpolation plot', ax=ax[0])\n",
    "    \n",
    "    # Create errors plot\n",
    "    xs_ = np.linspace(a, b, N)\n",
    "    diffs = abs_diff(f, W, xs_)\n",
    "    ax[1].scatter(xs_, diffs)\n",
    "    \n",
    "    ax[0].scatter(xs, [y_list[0] for y_list in ys])\n",
    "    plt.show()"
   ]
  },
  {
   "cell_type": "markdown",
   "id": "25f91c43",
   "metadata": {},
   "source": [
    "###### Wyznaczanie funkcji pochodnych"
   ]
  },
  {
   "cell_type": "code",
   "execution_count": null,
   "id": "8ac94b19",
   "metadata": {},
   "outputs": [],
   "source": [
    "from math import e\n",
    "x = Symbol('x')\n",
    "g0_ = e**(-2*sin(2*x))+2*sin(2*x)-1\n",
    "g1_ = g0_.diff(x)\n",
    "g2_ = g1_.diff(x)\n",
    "g3_ = g2_.diff(x)\n",
    "\n",
    "# Create callable functions from g1, g2, g3 objects\n",
    "g1 = lambdify(x, g1_)\n",
    "g2 = lambdify(x, g2_)\n",
    "g3 = lambdify(x, g3_)\n",
    "gs = [g, g1, g2, g3]"
   ]
  },
  {
   "cell_type": "markdown",
   "id": "232301d3",
   "metadata": {},
   "source": [
    "###### Funkcja g (zerowa pochodna)"
   ]
  },
  {
   "cell_type": "code",
   "execution_count": null,
   "id": "418eff3f",
   "metadata": {},
   "outputs": [],
   "source": [
    "g0_"
   ]
  },
  {
   "cell_type": "markdown",
   "id": "8484b2d2",
   "metadata": {},
   "source": [
    "###### Funkcja g1 (pierwsza pochodna)"
   ]
  },
  {
   "cell_type": "code",
   "execution_count": null,
   "id": "e06dd151",
   "metadata": {},
   "outputs": [],
   "source": [
    "g1_"
   ]
  },
  {
   "cell_type": "markdown",
   "id": "6eb36d1e",
   "metadata": {},
   "source": [
    "###### Funkcja g2 (druga pochodna)"
   ]
  },
  {
   "cell_type": "code",
   "execution_count": null,
   "id": "ae846edb",
   "metadata": {},
   "outputs": [],
   "source": [
    "g2_"
   ]
  },
  {
   "cell_type": "markdown",
   "id": "d45877f1",
   "metadata": {},
   "source": [
    "###### Funkcja g3 (trzecia pochodna)"
   ]
  },
  {
   "cell_type": "code",
   "execution_count": null,
   "id": "6aa91ed4",
   "metadata": {},
   "outputs": [],
   "source": [
    "g3_"
   ]
  },
  {
   "cell_type": "markdown",
   "id": "fd6e8e64",
   "metadata": {},
   "source": [
    "###### Pozostałe"
   ]
  },
  {
   "cell_type": "code",
   "execution_count": null,
   "id": "2ebd6f1e",
   "metadata": {},
   "outputs": [],
   "source": [
    "def derivatives(x, n):\n",
    "    return list(map(lambda g: g(x), gs[:n+1]))"
   ]
  },
  {
   "cell_type": "markdown",
   "id": "37b22f4d",
   "metadata": {},
   "source": [
    "### Przykłady"
   ]
  },
  {
   "cell_type": "markdown",
   "id": "4709a810",
   "metadata": {},
   "source": [
    "#### Dla pochodnych $1$. rzędu"
   ]
  },
  {
   "cell_type": "markdown",
   "id": "fe1273ec",
   "metadata": {},
   "source": [
    "Największa dokładność dla $19$ węzłów"
   ]
  },
  {
   "cell_type": "code",
   "execution_count": null,
   "id": "dda8f026",
   "metadata": {},
   "outputs": [],
   "source": [
    "n = 19\n",
    "xs = chebyshev_nodes(a, b, n)\n",
    "ys = [derivatives(x, 1) for x in xs]  # Function values and their first-order derivatives\n",
    "\n",
    "plot_interpolation(g, xs, ys)"
   ]
  },
  {
   "cell_type": "markdown",
   "id": "c7f2ba5d",
   "metadata": {},
   "source": [
    "Dla większej liczby węzłów, błąd szybko rośnie"
   ]
  },
  {
   "cell_type": "code",
   "execution_count": null,
   "id": "0a9b9675",
   "metadata": {},
   "outputs": [],
   "source": [
    "n = 21\n",
    "xs = chebyshev_nodes(a, b, n)\n",
    "ys = [derivatives(x, 1) for x in xs]  # Function values and their first-order derivatives\n",
    "\n",
    "plot_interpolation(g, xs, ys)"
   ]
  },
  {
   "cell_type": "markdown",
   "id": "e1a1dfda",
   "metadata": {},
   "source": [
    "Baaaaaardzo szybko rośnie błąd 😄"
   ]
  },
  {
   "cell_type": "code",
   "execution_count": null,
   "id": "7219a9a1",
   "metadata": {},
   "outputs": [],
   "source": [
    "n = 25\n",
    "xs = chebyshev_nodes(a, b, n)\n",
    "ys = [derivatives(x, 1) for x in xs]  # Function values and their first-order derivatives\n",
    "\n",
    "plot_interpolation(g, xs, ys)"
   ]
  },
  {
   "cell_type": "markdown",
   "id": "c65482a3",
   "metadata": {},
   "source": [
    "#### Porównanie liczby węzłów i rzędów pochodnych"
   ]
  },
  {
   "cell_type": "markdown",
   "id": "f9221773",
   "metadata": {},
   "source": [
    "###### Pochodne $0$. rzędu (wartości interpolowanej funkcji)"
   ]
  },
  {
   "cell_type": "markdown",
   "id": "1d4187bd",
   "metadata": {},
   "source": [
    "Najwyższa dokładność przybliżenia dla $41$ węzłów"
   ]
  },
  {
   "cell_type": "code",
   "execution_count": null,
   "id": "f3f1c729",
   "metadata": {},
   "outputs": [],
   "source": [
    "n = 41\n",
    "xs = chebyshev_nodes(a, b, n)\n",
    "ys = [derivatives(x, 0) for x in xs]  # Function values (without derivatives)\n",
    "\n",
    "plot_interpolation(g, xs, ys)"
   ]
  },
  {
   "cell_type": "markdown",
   "id": "0c4a18ce",
   "metadata": {},
   "source": [
    "###### Pochodne $1$. rzędu (wartości interpolowanej funkcji i $1$. pochodne)"
   ]
  },
  {
   "cell_type": "markdown",
   "id": "6998a4e3",
   "metadata": {},
   "source": [
    "Najwyższa dokładność przybliżenia dla $19$ węzłów"
   ]
  },
  {
   "cell_type": "code",
   "execution_count": null,
   "id": "358d7df9",
   "metadata": {},
   "outputs": [],
   "source": [
    "n = 19\n",
    "xs = chebyshev_nodes(a, b, n)\n",
    "ys = [derivatives(x, 1) for x in xs]  # Function values and their first order derivatives\n",
    "\n",
    "plot_interpolation(g, xs, ys)"
   ]
  },
  {
   "cell_type": "markdown",
   "id": "b957737c",
   "metadata": {},
   "source": [
    "###### Pochodne $2$. rzędu (wartości interpolowanej funkcji oraz $1$. i $2$. pochodne)"
   ]
  },
  {
   "cell_type": "markdown",
   "id": "cf463c6c",
   "metadata": {},
   "source": [
    "Najwyższa dokładność przybliżenia dla $13$ węzłów"
   ]
  },
  {
   "cell_type": "code",
   "execution_count": null,
   "id": "a5adac26",
   "metadata": {},
   "outputs": [],
   "source": [
    "n = 13\n",
    "xs = chebyshev_nodes(a, b, n)\n",
    "ys = [derivatives(x, 2) for x in xs] # Function values and their first and second order derivatives\n",
    "\n",
    "plot_interpolation(g, xs, ys)"
   ]
  },
  {
   "cell_type": "markdown",
   "id": "04586617",
   "metadata": {},
   "source": [
    "###### Pochodne $3$. rzędu (wartości interpolowanej funkcji oraz $1$. , $2$.i $3$. pochodne)"
   ]
  },
  {
   "cell_type": "markdown",
   "id": "f78a6a0f",
   "metadata": {},
   "source": [
    "Najwyższa dokładność przybliżenia dla $7$ węzłów (choć w tym przypadku widać, że przybliżenie jest już bardzo niedokładne)"
   ]
  },
  {
   "cell_type": "code",
   "execution_count": null,
   "id": "0c616b94",
   "metadata": {},
   "outputs": [],
   "source": [
    "n = 7\n",
    "xs = chebyshev_nodes(a, b, n)\n",
    "ys = [derivatives(x, 3) for x in xs]  # Function values (without derivatives)\n",
    "\n",
    "plot_interpolation(g, xs, ys)"
   ]
  },
  {
   "cell_type": "markdown",
   "id": "8214b1ac",
   "metadata": {},
   "source": [
    "#### Implementacja z biblioteki `scipy`"
   ]
  },
  {
   "cell_type": "markdown",
   "id": "00b0823d",
   "metadata": {},
   "source": [
    "Dużo bardzoej dokładna nwm czm"
   ]
  },
  {
   "cell_type": "code",
   "execution_count": null,
   "id": "498ae068",
   "metadata": {},
   "outputs": [],
   "source": [
    "from scipy.interpolate import CubicHermiteSpline"
   ]
  },
  {
   "cell_type": "code",
   "execution_count": null,
   "id": "8102a4f9",
   "metadata": {
    "scrolled": true
   },
   "outputs": [],
   "source": [
    "n = 500\n",
    "\n",
    "xs = chebyshev_nodes(a, b, n)\n",
    "ys = [g(x) for x in xs]\n",
    "dydx = [g1(x) for x in xs]\n",
    "\n",
    "N = 1000\n",
    "\n",
    "W = CubicHermiteSpline(xs, ys, dydx)\n",
    "\n",
    "fig, ax = plt.subplots(1, 2, figsize=(15, 4))\n",
    "\n",
    "# Compare interpolation polynomial to the original function\n",
    "plot_fn(g, a, b, step=.01, color='#777', label='f', ax=ax[0])\n",
    "plot_fn(W, a, b, step=.01, label='Hermite\\'s', title='Interpolation plot', ax=ax[0])\n",
    "\n",
    "# Create errors plot\n",
    "xs_ = np.linspace(a, b, N)\n",
    "diffs = abs_diff(g, W, xs_)\n",
    "ax[1].scatter(xs_, diffs)\n",
    "ax[0].scatter(xs, ys)\n",
    "plt.show()"
   ]
  },
  {
   "cell_type": "code",
   "execution_count": null,
   "id": "1eeb61a7",
   "metadata": {},
   "outputs": [],
   "source": []
  },
  {
   "cell_type": "code",
   "execution_count": null,
   "id": "f26032d0",
   "metadata": {},
   "outputs": [],
   "source": []
  },
  {
   "cell_type": "code",
   "execution_count": null,
   "id": "23a752ef",
   "metadata": {},
   "outputs": [],
   "source": []
  },
  {
   "cell_type": "markdown",
   "id": "b5ba993f",
   "metadata": {},
   "source": [
    "Decimale trochę pomagają (można więcej węzłów użyć i dokładność jest lepsza)"
   ]
  },
  {
   "cell_type": "code",
   "execution_count": null,
   "id": "2ca8e95a",
   "metadata": {},
   "outputs": [],
   "source": [
    "from decimal import Decimal, getcontext\n",
    "\n",
    "\n",
    "getcontext().prec = 100\n",
    "\n",
    "n = 100\n",
    "xs = [Decimal(x) for x in chebyshev_nodes(a, b, n)]\n",
    "ys = [[Decimal(y) for y in derivatives(float(x), 1)] for x in xs]\n",
    "\n",
    "W = hermite(xs, ys)\n",
    "    \n",
    "fig, axs = plt.subplots(1, 2, figsize=(15, 4))\n",
    "\n",
    "fn=g\n",
    "step=.01\n",
    "color='#777'\n",
    "label='f'\n",
    "ax=axs[0]\n",
    "n = int((b - a) / step) + 1\n",
    "xs = np.linspace(a, b, n)\n",
    "ax.plot(xs, [fn(x) for x in xs], color, label=label)\n",
    "if label: ax.legend(loc='best')\n",
    "\n",
    "if ax is plt:\n",
    "    ax.xlabel('x')\n",
    "    ax.ylabel('y')\n",
    "else:\n",
    "    ax.set_xlabel('x')\n",
    "    ax.set_ylabel('y')\n",
    "ax.grid()\n",
    "\n",
    "sns.despine()\n",
    "\n",
    "\n",
    "fn=W\n",
    "step=.01\n",
    "label='Hermit'\n",
    "color='blue'\n",
    "ax=axs[0]\n",
    "n = int((b - a) / step) + 1\n",
    "xs = [Decimal(x) for x in np.linspace(a, b, n)]\n",
    "ax.plot(xs, [fn(x) for x in xs], color, label=label)\n",
    "if label: ax.legend(loc='best')\n",
    "\n",
    "if ax is plt:\n",
    "    ax.xlabel('x')\n",
    "    ax.ylabel('y')\n",
    "else:\n",
    "    ax.set_xlabel('x')\n",
    "    ax.set_ylabel('y')\n",
    "ax.grid()\n",
    "\n",
    "sns.despine()\n",
    "\n",
    "N = 1000\n",
    "# Create errors plot\n",
    "xs_ = [Decimal(x) for x in np.linspace(a, b, N)]\n",
    "diffs = [Decimal(g(x)) - Decimal(W(x)) for x in xs_]\n",
    "axs[1].scatter(xs_, diffs)\n",
    "\n",
    "plt.show()"
   ]
  }
 ],
 "metadata": {
  "kernelspec": {
   "display_name": "Python 3 (ipykernel)",
   "language": "python",
   "name": "python3"
  },
  "language_info": {
   "codemirror_mode": {
    "name": "ipython",
    "version": 3
   },
   "file_extension": ".py",
   "mimetype": "text/x-python",
   "name": "python",
   "nbconvert_exporter": "python",
   "pygments_lexer": "ipython3",
   "version": "3.8.10"
  }
 },
 "nbformat": 4,
 "nbformat_minor": 5
}
