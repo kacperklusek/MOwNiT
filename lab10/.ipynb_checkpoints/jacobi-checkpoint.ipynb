{
 "cells": [
  {
   "cell_type": "code",
   "execution_count": 75,
   "id": "938b5648",
   "metadata": {},
   "outputs": [],
   "source": [
    "import numpy as np\n",
    "import pandas as pd\n",
    "from tabulate import tabulate\n",
    "from time import time"
   ]
  },
  {
   "cell_type": "code",
   "execution_count": 2,
   "id": "6825364b",
   "metadata": {},
   "outputs": [],
   "source": [
    "my_k = 10\n",
    "my_m = 2\n",
    "def my_matrix(n):\n",
    "    A = np.zeros((n, n))\n",
    "    for i in range(n):\n",
    "        A[i, i] = my_k\n",
    "        if i > 0:\n",
    "            A[i, i-1] = my_m / i+1\n",
    "        for j in range(i+1, n):\n",
    "            A[i, j] = my_m/(j+1) if (j+1)%2 == 0 else -my_m/(j+1) \n",
    "    return A"
   ]
  },
  {
   "cell_type": "code",
   "execution_count": 3,
   "id": "34e3a724",
   "metadata": {},
   "outputs": [],
   "source": [
    "def get_start_vector(n):\n",
    "    return np.array([1 if i%2 == 0 else -1 for i in range(n)])"
   ]
  },
  {
   "cell_type": "code",
   "execution_count": 4,
   "id": "9ed1dabf",
   "metadata": {},
   "outputs": [],
   "source": [
    "n = 5\n",
    "A = my_matrix(n)\n",
    "\n",
    "X = get_start_vector(n)\n",
    "\n",
    "B = A @ X"
   ]
  },
  {
   "cell_type": "code",
   "execution_count": 93,
   "id": "cceb4140",
   "metadata": {},
   "outputs": [],
   "source": [
    "def jacobi_method(A, B, stop_crit=1, max_iterations=1000, epsilon=1e-10):\n",
    "    x_old = np.zeros_like(B)\n",
    "    iterations = max_iterations\n",
    "    for it in range(max_iterations):\n",
    "        x_new = np.zeros_like(B)\n",
    "        \n",
    "        for i in range(A.shape[0]):            \n",
    "            s1 = A[i, :i] @ x_old[:i]\n",
    "            s2 = A[i, i + 1:] @ x_old[i + 1:]\n",
    "            x_new[i] = (B[i] - s1 - s2) / A[i, i]\n",
    "\n",
    "        if stop_crit == 2 and np.linalg.norm(A @ x_new - B) < epsilon or \\\n",
    "            stop_crit == 1 and np.linalg.norm(x_new - x_old) < epsilon:\n",
    "            iterations = it\n",
    "            break            \n",
    "        \n",
    "        if it == max_iterations-1:\n",
    "            print(\"max iters\")\n",
    "    \n",
    "        x_old = x_new\n",
    "        \n",
    "    return iterations"
   ]
  },
  {
   "cell_type": "code",
   "execution_count": 6,
   "id": "d474ca1f",
   "metadata": {},
   "outputs": [],
   "source": [
    "def get_df(results):\n",
    "    df = pd.DataFrame(results)\n",
    "    df.columns = df.iloc[0]\n",
    "    df = df[1:]\n",
    "    df.set_index('n', inplace=True)\n",
    "    return df"
   ]
  },
  {
   "cell_type": "code",
   "execution_count": 7,
   "id": "be0f30f9",
   "metadata": {},
   "outputs": [],
   "source": [
    "def plot(df, title=None, scale=\"linear\"):\n",
    "    plt.rcParams['figure.figsize'] = [9, 6]\n",
    "\n",
    "    plt.yscale(scale)\n",
    "    plt.plot(df, label=\"\")\n",
    "\n",
    "    if title:\n",
    "        plt.title(title, y=-0.12)\n",
    "\n",
    "    plt.legend(df.columns ,bbox_to_anchor=(0.85, 0.23), loc='upper left', borderaxespad=0)\n",
    "    plt.grid()\n",
    "    plt.show()"
   ]
  },
  {
   "cell_type": "code",
   "execution_count": 26,
   "id": "2764bae1",
   "metadata": {},
   "outputs": [],
   "source": [
    "tested_values = [_ for _ in range(3, 51, 2)]\n",
    "tested_values.extend([_ for _ in range(50, 101, 5)])\n",
    "tested_values.extend([_ for _ in range(125, 401, 25)])\n",
    "\n",
    "ITERATION_LIMIT = 10000\n"
   ]
  },
  {
   "cell_type": "markdown",
   "id": "b54cfbdd",
   "metadata": {},
   "source": [
    "## Zadanie 1"
   ]
  },
  {
   "cell_type": "code",
   "execution_count": 94,
   "id": "5848fa66",
   "metadata": {
    "scrolled": true
   },
   "outputs": [],
   "source": [
    "stop_crit = [1, 2]\n",
    "results = [['n', 'stop_crit', '1e-2', '1e-3', '1e-5', '1e-10']]\n",
    "accuracies = [1e-2, 1e-3, 1e-5, 1e-10]\n",
    "\n",
    "for s in stop_crit:\n",
    "    for n in tested_values:\n",
    "        temp = [n]\n",
    "        temp.append(s)\n",
    "        for acc in accuracies:\n",
    "            X = get_start_vector(n)\n",
    "            A = my_matrix(n)\n",
    "            B = A @ X\n",
    "            result = jacobi_method(A, B, s, max_iterations=ITERATION_LIMIT, epsilon=acc)\n",
    "            temp.append(result)\n",
    "        results.append(temp)\n",
    "    \n",
    "df = get_df(results)"
   ]
  },
  {
   "cell_type": "code",
   "execution_count": 95,
   "id": "ccbeb02b",
   "metadata": {
    "scrolled": true
   },
   "outputs": [
    {
     "name": "stdout",
     "output_type": "stream",
     "text": [
      "|   n |   stop_crit |   1e-2 |   1e-3 |   1e-5 |   1e-10 |\n",
      "|----:|------------:|-------:|-------:|-------:|--------:|\n",
      "|   3 |           1 |      3 |      5 |      8 |      15 |\n",
      "|   5 |           1 |      4 |      5 |      8 |      15 |\n",
      "|   7 |           1 |      4 |      5 |      8 |      16 |\n",
      "|   9 |           1 |      4 |      5 |      8 |      16 |\n",
      "|  11 |           1 |      4 |      5 |      8 |      16 |\n",
      "|  13 |           1 |      4 |      5 |      8 |      16 |\n",
      "|  15 |           1 |      4 |      5 |      8 |      16 |\n",
      "|  17 |           1 |      4 |      6 |      8 |      16 |\n",
      "|  19 |           1 |      4 |      6 |      8 |      16 |\n",
      "|  21 |           1 |      4 |      6 |      8 |      16 |\n",
      "|  23 |           1 |      4 |      6 |      8 |      16 |\n",
      "|  25 |           1 |      4 |      6 |      8 |      16 |\n",
      "|  27 |           1 |      4 |      6 |      9 |      16 |\n",
      "|  29 |           1 |      4 |      6 |      9 |      16 |\n",
      "|  31 |           1 |      4 |      6 |      9 |      16 |\n",
      "|  33 |           1 |      4 |      6 |      9 |      16 |\n",
      "|  35 |           1 |      4 |      6 |      9 |      16 |\n",
      "|  37 |           1 |      4 |      6 |      9 |      16 |\n",
      "|  39 |           1 |      4 |      6 |      9 |      16 |\n",
      "|  41 |           1 |      4 |      6 |      9 |      16 |\n",
      "|  43 |           1 |      4 |      6 |      9 |      16 |\n",
      "|  45 |           1 |      4 |      6 |      9 |      16 |\n",
      "|  47 |           1 |      4 |      6 |      9 |      16 |\n",
      "|  49 |           1 |      4 |      6 |      9 |      16 |\n",
      "|  50 |           1 |      4 |      6 |      9 |      16 |\n",
      "|  55 |           1 |      4 |      6 |      9 |      16 |\n",
      "|  60 |           1 |      4 |      6 |      9 |      16 |\n",
      "|  65 |           1 |      4 |      6 |      9 |      16 |\n",
      "|  70 |           1 |      4 |      6 |      9 |      16 |\n",
      "|  75 |           1 |      4 |      6 |      9 |      16 |\n",
      "|  80 |           1 |      4 |      6 |      9 |      16 |\n",
      "|  85 |           1 |      4 |      6 |      9 |      16 |\n",
      "|  90 |           1 |      4 |      6 |      9 |      16 |\n",
      "|  95 |           1 |      4 |      6 |      9 |      16 |\n",
      "| 100 |           1 |      4 |      6 |      9 |      16 |\n",
      "| 125 |           1 |      4 |      6 |      9 |      16 |\n",
      "| 150 |           1 |      4 |      6 |      9 |      16 |\n",
      "| 175 |           1 |      4 |      6 |      9 |      16 |\n",
      "| 200 |           1 |      4 |      6 |      9 |      16 |\n",
      "| 225 |           1 |      4 |      6 |      9 |      16 |\n",
      "| 250 |           1 |      4 |      6 |      9 |      16 |\n",
      "| 275 |           1 |      4 |      6 |      9 |      16 |\n",
      "| 300 |           1 |      5 |      6 |      9 |      16 |\n",
      "| 325 |           1 |      5 |      6 |      9 |      16 |\n",
      "| 350 |           1 |      5 |      6 |      9 |      16 |\n",
      "| 375 |           1 |      5 |      6 |      9 |      16 |\n",
      "| 400 |           1 |      5 |      6 |      9 |      16 |\n"
     ]
    }
   ],
   "source": [
    "print(df[:47].to_markdown())"
   ]
  },
  {
   "cell_type": "code",
   "execution_count": 72,
   "id": "c4d1381e",
   "metadata": {
    "scrolled": true
   },
   "outputs": [
    {
     "name": "stdout",
     "output_type": "stream",
     "text": [
      "|   n |   stop_crit |   1e-2 |   1e-3 |   1e-5 |   1e-10 |\n",
      "|----:|------------:|-------:|-------:|-------:|--------:|\n",
      "|   3 |           2 |      4 |      5 |      8 |      15 |\n",
      "|   5 |           2 |      4 |      6 |      9 |      16 |\n",
      "|   7 |           2 |      4 |      6 |      9 |      16 |\n",
      "|   9 |           2 |      4 |      6 |      9 |      16 |\n",
      "|  11 |           2 |      4 |      6 |      9 |      16 |\n",
      "|  13 |           2 |      4 |      6 |      9 |      16 |\n",
      "|  15 |           2 |      5 |      6 |      9 |      16 |\n",
      "|  17 |           2 |      5 |      6 |      9 |      16 |\n",
      "|  19 |           2 |      5 |      6 |      9 |      16 |\n",
      "|  21 |           2 |      5 |      6 |      9 |      16 |\n",
      "|  23 |           2 |      5 |      6 |      9 |      17 |\n",
      "|  25 |           2 |      5 |      6 |      9 |      17 |\n",
      "|  27 |           2 |      5 |      6 |      9 |      17 |\n",
      "|  29 |           2 |      5 |      6 |      9 |      17 |\n",
      "|  31 |           2 |      5 |      6 |      9 |      17 |\n",
      "|  33 |           2 |      5 |      6 |      9 |      17 |\n",
      "|  35 |           2 |      5 |      6 |      9 |      17 |\n",
      "|  37 |           2 |      5 |      6 |      9 |      17 |\n",
      "|  39 |           2 |      5 |      6 |      9 |      17 |\n",
      "|  41 |           2 |      5 |      6 |      9 |      17 |\n",
      "|  43 |           2 |      5 |      6 |      9 |      17 |\n",
      "|  45 |           2 |      5 |      6 |      9 |      17 |\n",
      "|  47 |           2 |      5 |      6 |      9 |      17 |\n",
      "|  49 |           2 |      5 |      6 |      9 |      17 |\n",
      "|  50 |           2 |      5 |      6 |      9 |      17 |\n",
      "|  55 |           2 |      5 |      6 |      9 |      17 |\n",
      "|  60 |           2 |      5 |      6 |      9 |      17 |\n",
      "|  65 |           2 |      5 |      6 |      9 |      17 |\n",
      "|  70 |           2 |      5 |      6 |      9 |      17 |\n",
      "|  75 |           2 |      5 |      6 |      9 |      17 |\n",
      "|  80 |           2 |      5 |      6 |      9 |      17 |\n",
      "|  85 |           2 |      5 |      6 |      9 |      17 |\n",
      "|  90 |           2 |      5 |      6 |      9 |      17 |\n",
      "|  95 |           2 |      5 |      6 |      9 |      17 |\n",
      "| 100 |           2 |      5 |      6 |      9 |      17 |\n",
      "| 125 |           2 |      5 |      6 |      9 |      17 |\n",
      "| 150 |           2 |      5 |      6 |      9 |      17 |\n",
      "| 175 |           2 |      5 |      6 |      9 |      17 |\n",
      "| 200 |           2 |      5 |      6 |      9 |      17 |\n",
      "| 225 |           2 |      5 |      6 |      9 |      17 |\n",
      "| 250 |           2 |      5 |      6 |      9 |      17 |\n",
      "| 275 |           2 |      5 |      6 |      9 |      17 |\n",
      "| 300 |           2 |      5 |      6 |      9 |      17 |\n",
      "| 325 |           2 |      5 |      6 |      9 |      17 |\n",
      "| 350 |           2 |      5 |      6 |      9 |      17 |\n",
      "| 375 |           2 |      5 |      6 |      9 |      17 |\n",
      "| 400 |           2 |      5 |      6 |      9 |      17 |\n"
     ]
    }
   ],
   "source": [
    "print(df[47:].to_markdown())"
   ]
  },
  {
   "cell_type": "code",
   "execution_count": 84,
   "id": "ab5580b3",
   "metadata": {},
   "outputs": [],
   "source": [
    "stop_crit = [1, 2]\n",
    "results = [['n', 'stop_crit', '1e-2', '1e-3', '1e-5', '1e-10']]\n",
    "accuracies = [1e-2, 1e-3, 1e-5, 1e-10]\n",
    "\n",
    "for s in stop_crit:\n",
    "    for n in tested_values:\n",
    "        temp = [n]\n",
    "        temp.append(s)\n",
    "        for acc in accuracies:\n",
    "            X = get_start_vector(n)\n",
    "            A = my_matrix(n)\n",
    "            B = A @ X\n",
    "            start = time()\n",
    "            result = jacobi_method(A, B, s, max_iterations=ITERATION_LIMIT, epsilon=acc)\n",
    "            stop = time()\n",
    "            \n",
    "            temp.append(str(stop - start)[:8])\n",
    "        results.append(temp)\n",
    "    \n",
    "df = get_df(results)"
   ]
  },
  {
   "cell_type": "code",
   "execution_count": 85,
   "id": "c7836b55",
   "metadata": {
    "scrolled": true
   },
   "outputs": [
    {
     "name": "stdout",
     "output_type": "stream",
     "text": [
      "|   n |   stop_crit |     1e-2 |     1e-3 |     1e-5 |    1e-10 |\n",
      "|----:|------------:|---------:|---------:|---------:|---------:|\n",
      "|   3 |           1 | 0.000424 | 0.000353 | 0.000449 | 0.000774 |\n",
      "|   5 |           1 | 0.000331 | 0.000432 | 0.000713 | 0.001457 |\n",
      "|   7 |           1 | 0.000666 | 0.000644 | 0.000907 | 0.00171  |\n",
      "|   9 |           1 | 0.000613 | 0.000752 | 0.001076 | 0.002152 |\n",
      "|  11 |           1 | 0.000741 | 0.000842 | 0.001224 | 0.001985 |\n",
      "|  13 |           1 | 0.000584 | 0.000687 | 0.001133 | 0.001932 |\n",
      "|  15 |           1 | 0.000642 | 0.000889 | 0.001162 | 0.002149 |\n",
      "|  17 |           1 | 0.000825 | 0.001019 | 0.001353 | 0.002547 |\n",
      "|  19 |           1 | 0.000877 | 0.001368 | 0.001955 | 0.002971 |\n",
      "|  21 |           1 | 0.001145 | 0.00126  | 0.001724 | 0.002886 |\n",
      "|  23 |           1 | 0.000915 | 0.001311 | 0.001981 | 0.003614 |\n",
      "|  25 |           1 | 0.001009 | 0.001749 | 0.001958 | 0.003685 |\n",
      "|  27 |           1 | 0.001243 | 0.001559 | 0.001805 | 0.001703 |\n",
      "|  29 |           1 | 0.000521 | 0.00073  | 0.001231 | 0.001756 |\n",
      "|  31 |           1 | 0.000568 | 0.000772 | 0.001096 | 0.001836 |\n",
      "|  33 |           1 | 0.000573 | 0.000872 | 0.001136 | 0.001941 |\n",
      "|  35 |           1 | 0.000622 | 0.000841 | 0.00122  | 0.002088 |\n",
      "|  37 |           1 | 0.000636 | 0.00088  | 0.001255 | 0.002138 |\n",
      "|  39 |           1 | 0.000656 | 0.001007 | 0.001336 | 0.002255 |\n",
      "|  41 |           1 | 0.000706 | 0.000975 | 0.001621 | 0.002339 |\n",
      "|  43 |           1 | 0.000747 | 0.001054 | 0.001464 | 0.00251  |\n",
      "|  45 |           1 | 0.000749 | 0.001058 | 0.001551 | 0.002542 |\n",
      "|  47 |           1 | 0.000811 | 0.001129 | 0.001604 | 0.002652 |\n",
      "|  49 |           1 | 0.000852 | 0.001173 | 0.001629 | 0.002781 |\n",
      "|  50 |           1 | 0.000829 | 0.001226 | 0.001642 | 0.002831 |\n",
      "|  55 |           1 | 0.000916 | 0.001327 | 0.001809 | 0.00315  |\n",
      "|  60 |           1 | 0.001008 | 0.001438 | 0.001969 | 0.003364 |\n",
      "|  65 |           1 | 0.001099 | 0.001484 | 0.002161 | 0.003664 |\n",
      "|  70 |           1 | 0.001163 | 0.001632 | 0.002323 | 0.00388  |\n",
      "|  75 |           1 | 0.001214 | 0.001722 | 0.002412 | 0.004215 |\n",
      "|  80 |           1 | 0.001321 | 0.00181  | 0.002577 | 0.00443  |\n",
      "|  85 |           1 | 0.001388 | 0.002    | 0.002764 | 0.004684 |\n",
      "|  90 |           1 | 0.00147  | 0.002016 | 0.002943 | 0.004908 |\n",
      "|  95 |           1 | 0.001545 | 0.002104 | 0.003079 | 0.005121 |\n",
      "| 100 |           1 | 0.001625 | 0.002241 | 0.00318  | 0.005342 |\n",
      "| 125 |           1 | 0.001999 | 0.002882 | 0.003968 | 0.006676 |\n",
      "| 150 |           1 | 0.002327 | 0.003314 | 0.004662 | 0.008126 |\n",
      "| 175 |           1 | 0.002792 | 0.003837 | 0.005434 | 0.009325 |\n",
      "| 200 |           1 | 0.003116 | 0.004366 | 0.006218 | 0.010588 |\n",
      "| 225 |           1 | 0.003529 | 0.004995 | 0.007066 | 0.012038 |\n",
      "| 250 |           1 | 0.003895 | 0.005475 | 0.007796 | 0.013228 |\n",
      "| 275 |           1 | 0.004358 | 0.006224 | 0.008767 | 0.014815 |\n",
      "| 300 |           1 | 0.004738 | 0.006658 | 0.009444 | 0.015985 |\n",
      "| 325 |           1 | 0.005178 | 0.007362 | 0.010297 | 0.017414 |\n",
      "| 350 |           1 | 0.005902 | 0.008197 | 0.011096 | 0.018712 |\n",
      "| 375 |           1 | 0.005974 | 0.008347 | 0.011944 | 0.020111 |\n",
      "| 400 |           1 | 0.006333 | 0.008855 | 0.012404 | 0.020699 |\n"
     ]
    }
   ],
   "source": [
    "print(df[:47].to_markdown())"
   ]
  },
  {
   "cell_type": "code",
   "execution_count": 86,
   "id": "c7e9f88f",
   "metadata": {
    "scrolled": true
   },
   "outputs": [
    {
     "name": "stdout",
     "output_type": "stream",
     "text": [
      "|   n |   stop_crit |     1e-2 |     1e-3 |     1e-5 |    1e-10 |\n",
      "|----:|------------:|---------:|---------:|---------:|---------:|\n",
      "|   3 |           2 | 0.000103 | 0.000116 | 0.000168 | 0.000293 |\n",
      "|   5 |           2 | 0.000128 | 0.00018  | 0.000255 | 0.000421 |\n",
      "|   7 |           2 | 0.000159 | 0.000217 | 0.000312 | 0.000537 |\n",
      "|   9 |           2 | 0.000188 | 0.000259 | 0.000368 | 0.000624 |\n",
      "|  11 |           2 | 0.000218 | 0.000302 | 0.000429 | 0.000726 |\n",
      "|  13 |           2 | 0.000259 | 0.000344 | 0.000493 | 0.000824 |\n",
      "|  15 |           2 | 0.000332 | 0.000387 | 0.000549 | 0.000937 |\n",
      "|  17 |           2 | 0.000369 | 0.000427 | 0.000613 | 0.001031 |\n",
      "|  19 |           2 | 0.000403 | 0.000468 | 0.000687 | 0.001132 |\n",
      "|  21 |           2 | 0.000439 | 0.000515 | 0.000739 | 0.001247 |\n",
      "|  23 |           2 | 0.000475 | 0.000556 | 0.00079  | 0.001426 |\n",
      "|  25 |           2 | 0.000517 | 0.0006   | 0.000849 | 0.001533 |\n",
      "|  27 |           2 | 0.000548 | 0.000638 | 0.000909 | 0.001639 |\n",
      "|  29 |           2 | 0.000584 | 0.000682 | 0.000974 | 0.001755 |\n",
      "|  31 |           2 | 0.00062  | 0.000722 | 0.001029 | 0.001862 |\n",
      "|  33 |           2 | 0.000656 | 0.000766 | 0.001091 | 0.001953 |\n",
      "|  35 |           2 | 0.000697 | 0.000805 | 0.001161 | 0.002066 |\n",
      "|  37 |           2 | 0.000743 | 0.000849 | 0.001214 | 0.002191 |\n",
      "|  39 |           2 | 0.000767 | 0.000891 | 0.001284 | 0.002288 |\n",
      "|  41 |           2 | 0.000801 | 0.000945 | 0.001335 | 0.002401 |\n",
      "|  43 |           2 | 0.000843 | 0.000981 | 0.001402 | 0.00251  |\n",
      "|  45 |           2 | 0.00089  | 0.001019 | 0.001451 | 0.002621 |\n",
      "|  47 |           2 | 0.000911 | 0.00107  | 0.001519 | 0.002732 |\n",
      "|  49 |           2 | 0.000946 | 0.001106 | 0.001586 | 0.002841 |\n",
      "|  50 |           2 | 0.000966 | 0.001122 | 0.001612 | 0.002891 |\n",
      "|  55 |           2 | 0.001062 | 0.001234 | 0.001768 | 0.003168 |\n",
      "|  60 |           2 | 0.001149 | 0.001332 | 0.001913 | 0.003433 |\n",
      "|  65 |           2 | 0.00124  | 0.001464 | 0.002071 | 0.003726 |\n",
      "|  70 |           2 | 0.001341 | 0.001557 | 0.002222 | 0.003979 |\n",
      "|  75 |           2 | 0.001443 | 0.001667 | 0.002387 | 0.004274 |\n",
      "|  80 |           2 | 0.001519 | 0.001762 | 0.002527 | 0.004543 |\n",
      "|  85 |           2 | 0.001629 | 0.001891 | 0.002686 | 0.004852 |\n",
      "|  90 |           2 | 0.001701 | 0.001993 | 0.002849 | 0.005114 |\n",
      "|  95 |           2 | 0.001811 | 0.002109 | 0.002998 | 0.005382 |\n",
      "| 100 |           2 | 0.001891 | 0.002216 | 0.003146 | 0.005625 |\n",
      "| 125 |           2 | 0.002359 | 0.002754 | 0.003925 | 0.00706  |\n",
      "| 150 |           2 | 0.00283  | 0.003285 | 0.004693 | 0.008437 |\n",
      "| 175 |           2 | 0.00334  | 0.004278 | 0.005661 | 0.00993  |\n",
      "| 200 |           2 | 0.003782 | 0.004373 | 0.006229 | 0.011162 |\n",
      "| 225 |           2 | 0.004226 | 0.004985 | 0.007046 | 0.012712 |\n",
      "| 250 |           2 | 0.004711 | 0.005497 | 0.007848 | 0.014051 |\n",
      "| 275 |           2 | 0.005228 | 0.006105 | 0.008767 | 0.015615 |\n",
      "| 300 |           2 | 0.005689 | 0.00649  | 0.00929  | 0.016716 |\n",
      "| 325 |           2 | 0.006161 | 0.007262 | 0.012294 | 0.018665 |\n",
      "| 350 |           2 | 0.006587 | 0.007651 | 0.010845 | 0.01952  |\n",
      "| 375 |           2 | 0.00709  | 0.00832  | 0.011959 | 0.021207 |\n",
      "| 400 |           2 | 0.007607 | 0.008751 | 0.012599 | 0.022413 |\n"
     ]
    }
   ],
   "source": [
    "print(df[47:].to_markdown())"
   ]
  },
  {
   "cell_type": "markdown",
   "id": "6a7524d1",
   "metadata": {},
   "source": [
    "## Zadanie 2"
   ]
  },
  {
   "attachments": {
    "image.png": {
     "image/png": "[encoded data removed]"
    }
   },
   "cell_type": "markdown",
   "id": "042aa703",
   "metadata": {},
   "source": [
    "![image.png](attachment:image.png)\n"
   ]
  },
  {
   "cell_type": "code",
   "execution_count": 89,
   "id": "5c04f7b6",
   "metadata": {},
   "outputs": [],
   "source": [
    "def spectral_radius(A):\n",
    "    D = np.diag(A)\n",
    "    R = A - np.diagflat(D)\n",
    "    S = R / D\n",
    "    eigvals = np.linalg.eigvals(S)\n",
    "    return max(abs(i) for i in eigvals)"
   ]
  },
  {
   "cell_type": "code",
   "execution_count": 90,
   "id": "f5361ebc",
   "metadata": {},
   "outputs": [],
   "source": [
    "stop_crit = [1, 2]\n",
    "results = [['n', \"radius\"]]\n",
    "accuracies = [1e-2, 1e-3, 1e-5, 1e-10]\n",
    "\n",
    "for n in tested_values:\n",
    "    temp = [n]\n",
    "    A = my_matrix(n)\n",
    "    temp.append(spectral_radius(A))\n",
    "    results.append(temp)\n",
    "    \n",
    "df = get_df(results)"
   ]
  },
  {
   "cell_type": "code",
   "execution_count": 91,
   "id": "041a1ff5",
   "metadata": {
    "scrolled": false
   },
   "outputs": [
    {
     "name": "stdout",
     "output_type": "stream",
     "text": [
      "|   n |   radius |\n",
      "|----:|---------:|\n",
      "|   3 | 0.19329  |\n",
      "|   5 | 0.210009 |\n",
      "|   7 | 0.213588 |\n",
      "|   9 | 0.214447 |\n",
      "|  11 | 0.214659 |\n",
      "|  13 | 0.214712 |\n",
      "|  15 | 0.214725 |\n",
      "|  17 | 0.214728 |\n",
      "|  19 | 0.214729 |\n",
      "|  21 | 0.214729 |\n",
      "|  23 | 0.214729 |\n",
      "|  25 | 0.214729 |\n",
      "|  27 | 0.214729 |\n",
      "|  29 | 0.214729 |\n",
      "|  31 | 0.214729 |\n",
      "|  33 | 0.214729 |\n",
      "|  35 | 0.214729 |\n",
      "|  37 | 0.214729 |\n",
      "|  39 | 0.214729 |\n",
      "|  41 | 0.214729 |\n",
      "|  43 | 0.214729 |\n",
      "|  45 | 0.214729 |\n",
      "|  47 | 0.214729 |\n",
      "|  49 | 0.214729 |\n",
      "|  50 | 0.214729 |\n",
      "|  55 | 0.214729 |\n",
      "|  60 | 0.214729 |\n",
      "|  65 | 0.214729 |\n",
      "|  70 | 0.214729 |\n",
      "|  75 | 0.214729 |\n",
      "|  80 | 0.214729 |\n",
      "|  85 | 0.214729 |\n",
      "|  90 | 0.214729 |\n",
      "|  95 | 0.214729 |\n",
      "| 100 | 0.214729 |\n",
      "| 125 | 0.214729 |\n",
      "| 150 | 0.214729 |\n",
      "| 175 | 0.214729 |\n",
      "| 200 | 0.214729 |\n",
      "| 225 | 0.214729 |\n",
      "| 250 | 0.214729 |\n",
      "| 275 | 0.214729 |\n",
      "| 300 | 0.214729 |\n",
      "| 325 | 0.214729 |\n",
      "| 350 | 0.214729 |\n",
      "| 375 | 0.214729 |\n",
      "| 400 | 0.214729 |\n"
     ]
    }
   ],
   "source": [
    "print(df[:47].to_markdown())"
   ]
  }
 ],
 "metadata": {
  "kernelspec": {
   "display_name": "Python 3 (ipykernel)",
   "language": "python",
   "name": "python3"
  },
  "language_info": {
   "codemirror_mode": {
    "name": "ipython",
    "version": 3
   },
   "file_extension": ".py",
   "mimetype": "text/x-python",
   "name": "python",
   "nbconvert_exporter": "python",
   "pygments_lexer": "ipython3",
   "version": "3.9.7"
  }
 },
 "nbformat": 4,
 "nbformat_minor": 5
}
